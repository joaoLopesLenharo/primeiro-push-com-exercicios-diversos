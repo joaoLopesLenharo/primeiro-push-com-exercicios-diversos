{
  "nbformat": 4,
  "nbformat_minor": 0,
  "metadata": {
    "colab": {
      "provenance": [],
      "authorship_tag": "ABX9TyPn+u2cgmW9TlMbRX3q90Oa",
      "include_colab_link": true
    },
    "kernelspec": {
      "name": "python3",
      "display_name": "Python 3"
    },
    "language_info": {
      "name": "python"
    }
  },
  "cells": [
    {
      "cell_type": "markdown",
      "metadata": {
        "id": "view-in-github",
        "colab_type": "text"
      },
      "source": [
        "<a href=\"https://colab.research.google.com/github/LuizRicardo25/OObjeto_Python/blob/master/OObjeto_Python.ipynb\" target=\"_parent\"><img src=\"https://colab.research.google.com/assets/colab-badge.svg\" alt=\"Open In Colab\"/></a>"
      ]
    },
    {
      "cell_type": "markdown",
      "source": [
        "Lição 1: Introdução à Programação Orientada a Objetos\n",
        "Objetivos:\n",
        "\n",
        "Entender o que é OOP.\n",
        "Conhecer os conceitos básicos: Classes, Objetos, Métodos e Atributos.\n",
        "Conteúdo:\n",
        "\n",
        "Definição de OOP.\n",
        "Diferença entre programação procedimental e orientada a objetos.\n",
        "Exemplos básicos de como OOP é usada na vida real.\n",
        "Exemplo Prático:"
      ],
      "metadata": {
        "id": "L802iM1H3DhU"
      }
    },
    {
      "cell_type": "code",
      "source": [
        "# Exemplo de uma classe simples\n",
        "class Carro:\n",
        "    def __init__(self, marca, modelo):\n",
        "        self.marca = marca\n",
        "        self.modelo = modelo\n",
        "\n",
        "    def exibir_informacoes(self):\n",
        "        print(f\"Carro: {self.marca} {self.modelo}\")\n",
        "\n",
        "# Criando um objeto da classe Carro\n",
        "meu_carro = Carro(\"Toyota\", \"Corolla\")\n",
        "meu_carro.exibir_informacoes()\n"
      ],
      "metadata": {
        "id": "qANXlfrp3L0M"
      },
      "execution_count": null,
      "outputs": []
    },
    {
      "cell_type": "markdown",
      "source": [
        "Lição 2: Classes e Objetos em Python\n",
        "Objetivos:\n",
        "\n",
        "Aprender a definir classes em Python.\n",
        "Entender como criar instâncias (objetos) de uma classe.\n",
        "Conteúdo:\n",
        "\n",
        "Sintaxe básica para criar classes.\n",
        "O método especial __init__.\n",
        "Criar objetos a partir de classes.\n",
        "Exemplo Prático:"
      ],
      "metadata": {
        "id": "1eDN4J6_3eNA"
      }
    },
    {
      "cell_type": "code",
      "source": [
        "# Definindo uma classe\n",
        "class Pessoa:\n",
        "    def __init__(self, nome, idade):\n",
        "        self.nome = nome\n",
        "        self.idade = idade\n",
        "\n",
        "    def cumprimentar(self):\n",
        "        return f\"Olá, meu nome é {self.nome} e eu tenho {self.idade} anos.\"\n",
        "\n",
        "# Criando um objeto da classe Pessoa\n",
        "pessoa1 = Pessoa(\"João\", 30)\n",
        "print(pessoa1.cumprimentar())\n"
      ],
      "metadata": {
        "id": "Cc08iUIG3ltf"
      },
      "execution_count": null,
      "outputs": []
    },
    {
      "cell_type": "markdown",
      "source": [
        "Lição 3: Métodos e Atributos\n",
        "Objetivos:\n",
        "\n",
        "Compreender a diferença entre métodos e atributos.\n",
        "Aprender a escrever métodos que interagem com atributos.\n",
        "Conteúdo:\n",
        "\n",
        "Métodos: Funções definidas dentro de uma classe.\n",
        "Atributos: Variáveis associadas a uma instância ou classe.\n",
        "Exemplo Prático:"
      ],
      "metadata": {
        "id": "8Uk7W8Z-3oTQ"
      }
    },
    {
      "cell_type": "code",
      "source": [
        "# Classe com métodos e atributos\n",
        "class ContaBancaria:\n",
        "    def __init__(self, titular, saldo_inicial=0):\n",
        "        self.titular = titular\n",
        "        self.saldo = saldo_inicial\n",
        "\n",
        "    def depositar(self, quantia):\n",
        "        self.saldo += quantia\n",
        "        return f\"Depósito de {quantia} realizado com sucesso!\"\n",
        "\n",
        "    def sacar(self, quantia):\n",
        "        if quantia > self.saldo:\n",
        "            return \"Saldo insuficiente!\"\n",
        "        self.saldo -= quantia\n",
        "        return f\"Saque de {quantia} realizado com sucesso!\"\n",
        "\n",
        "# Uso da classe\n",
        "conta = ContaBancaria(\"Maria\", 1000)\n",
        "print(conta.depositar(500))\n",
        "print(conta.sacar(200))\n"
      ],
      "metadata": {
        "colab": {
          "base_uri": "https://localhost:8080/"
        },
        "id": "JeGhgCfJ3q5H",
        "outputId": "d1af2f7b-aa45-4317-eee6-89a04caec5a2"
      },
      "execution_count": 1,
      "outputs": [
        {
          "output_type": "stream",
          "name": "stdout",
          "text": [
            "Depósito de 500 realizado com sucesso!\n",
            "Saque de 200 realizado com sucesso!\n"
          ]
        }
      ]
    }
  ]
}